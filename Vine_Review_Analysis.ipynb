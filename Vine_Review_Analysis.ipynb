{
  "nbformat": 4,
  "nbformat_minor": 0,
  "metadata": {
    "colab": {
      "name": "Vine_Review_Analysis.ipynb",
      "provenance": []
    },
    "kernelspec": {
      "name": "python3",
      "display_name": "Python 3"
    },
    "language_info": {
      "name": "python"
    }
  },
  "cells": [
    {
      "cell_type": "code",
      "metadata": {
        "colab": {
          "base_uri": "https://localhost:8080/"
        },
        "id": "Vo6BQJpj7skH",
        "outputId": "42e186da-4cfa-466b-b8f7-3c2ba54d4277"
      },
      "source": [
        "import os\n",
        "# Find the latest version of spark 2.0  from http://www-us.apache.org/dist/spark/ and enter as the spark version\n",
        "# For example:\n",
        "# spark_version = 'spark-3.0.0'\n",
        "spark_version = 'spark-3.0.2'\n",
        "os.environ['SPARK_VERSION']=spark_version\n",
        "\n",
        "# Install Spark and Java\n",
        "!apt-get update\n",
        "!apt-get install openjdk-11-jdk-headless -qq > /dev/null\n",
        "!wget -q http://www-us.apache.org/dist/spark/$SPARK_VERSION/$SPARK_VERSION-bin-hadoop2.7.tgz\n",
        "!tar xf $SPARK_VERSION-bin-hadoop2.7.tgz\n",
        "!pip install -q findspark\n",
        "\n",
        "# Set Environment Variables\n",
        "import os\n",
        "os.environ[\"JAVA_HOME\"] = \"/usr/lib/jvm/java-11-openjdk-amd64\"\n",
        "os.environ[\"SPARK_HOME\"] = f\"/content/{spark_version}-bin-hadoop2.7\"\n",
        "\n",
        "# Start a SparkSession\n",
        "import findspark\n",
        "findspark.init()"
      ],
      "execution_count": 1,
      "outputs": [
        {
          "output_type": "stream",
          "text": [
            "\r0% [Working]\r            \rIgn:1 https://developer.download.nvidia.com/compute/cuda/repos/ubuntu1804/x86_64  InRelease\n",
            "\r0% [Connecting to archive.ubuntu.com (91.189.88.142)] [Connecting to security.u\r                                                                               \rGet:2 https://cloud.r-project.org/bin/linux/ubuntu bionic-cran40/ InRelease [3,626 B]\n",
            "\r0% [Connecting to archive.ubuntu.com (91.189.88.142)] [Connecting to security.u\r0% [Connecting to archive.ubuntu.com (91.189.88.142)] [Connecting to security.u\r                                                                               \rIgn:3 https://developer.download.nvidia.com/compute/machine-learning/repos/ubuntu1804/x86_64  InRelease\n",
            "\r0% [Connecting to archive.ubuntu.com (91.189.88.142)] [Connecting to security.u\r0% [2 InRelease gpgv 3,626 B] [Connecting to archive.ubuntu.com (91.189.88.142)\r                                                                               \rGet:4 https://developer.download.nvidia.com/compute/cuda/repos/ubuntu1804/x86_64  Release [697 B]\n",
            "\r0% [2 InRelease gpgv 3,626 B] [Connecting to archive.ubuntu.com (91.189.88.142)\r                                                                               \rHit:5 https://developer.download.nvidia.com/compute/machine-learning/repos/ubuntu1804/x86_64  Release\n",
            "Get:6 https://developer.download.nvidia.com/compute/cuda/repos/ubuntu1804/x86_64  Release.gpg [836 B]\n",
            "Hit:7 http://archive.ubuntu.com/ubuntu bionic InRelease\n",
            "Get:8 http://security.ubuntu.com/ubuntu bionic-security InRelease [88.7 kB]\n",
            "Get:9 http://ppa.launchpad.net/c2d4u.team/c2d4u4.0+/ubuntu bionic InRelease [15.9 kB]\n",
            "Get:10 http://archive.ubuntu.com/ubuntu bionic-updates InRelease [88.7 kB]\n",
            "Get:11 https://cloud.r-project.org/bin/linux/ubuntu bionic-cran40/ Packages [60.9 kB]\n",
            "Hit:13 http://ppa.launchpad.net/cran/libgit2/ubuntu bionic InRelease\n",
            "Get:14 http://archive.ubuntu.com/ubuntu bionic-backports InRelease [74.6 kB]\n",
            "Ign:15 https://developer.download.nvidia.com/compute/cuda/repos/ubuntu1804/x86_64  Packages\n",
            "Get:15 https://developer.download.nvidia.com/compute/cuda/repos/ubuntu1804/x86_64  Packages [796 kB]\n",
            "Hit:16 http://ppa.launchpad.net/deadsnakes/ppa/ubuntu bionic InRelease\n",
            "Get:17 http://ppa.launchpad.net/graphics-drivers/ppa/ubuntu bionic InRelease [21.3 kB]\n",
            "Get:18 http://security.ubuntu.com/ubuntu bionic-security/universe amd64 Packages [1,412 kB]\n",
            "Get:19 http://ppa.launchpad.net/c2d4u.team/c2d4u4.0+/ubuntu bionic/main Sources [1,769 kB]\n",
            "Get:20 http://security.ubuntu.com/ubuntu bionic-security/main amd64 Packages [2,152 kB]\n",
            "Get:21 http://archive.ubuntu.com/ubuntu bionic-updates/main amd64 Packages [2,583 kB]\n",
            "Get:22 http://security.ubuntu.com/ubuntu bionic-security/restricted amd64 Packages [423 kB]\n",
            "Get:23 http://archive.ubuntu.com/ubuntu bionic-updates/universe amd64 Packages [2,183 kB]\n",
            "Get:24 http://archive.ubuntu.com/ubuntu bionic-updates/restricted amd64 Packages [452 kB]\n",
            "Get:25 http://ppa.launchpad.net/c2d4u.team/c2d4u4.0+/ubuntu bionic/main amd64 Packages [905 kB]\n",
            "Get:26 http://ppa.launchpad.net/graphics-drivers/ppa/ubuntu bionic/main amd64 Packages [41.5 kB]\n",
            "Fetched 13.1 MB in 4s (2,993 kB/s)\n",
            "Reading package lists... Done\n"
          ],
          "name": "stdout"
        }
      ]
    },
    {
      "cell_type": "code",
      "metadata": {
        "colab": {
          "base_uri": "https://localhost:8080/"
        },
        "id": "pUUh3f3s70f8",
        "outputId": "c37bd7a2-8b73-4c49-b663-405e33d9fd7b"
      },
      "source": [
        "# Download the Postgres driver that will allow Spark to interact with Postgres.\n",
        "!wget https://jdbc.postgresql.org/download/postgresql-42.2.16.jar"
      ],
      "execution_count": 2,
      "outputs": [
        {
          "output_type": "stream",
          "text": [
            "--2021-05-23 20:34:32--  https://jdbc.postgresql.org/download/postgresql-42.2.16.jar\n",
            "Resolving jdbc.postgresql.org (jdbc.postgresql.org)... 72.32.157.228, 2001:4800:3e1:1::228\n",
            "Connecting to jdbc.postgresql.org (jdbc.postgresql.org)|72.32.157.228|:443... connected.\n",
            "HTTP request sent, awaiting response... 200 OK\n",
            "Length: 1002883 (979K) [application/java-archive]\n",
            "Saving to: ‘postgresql-42.2.16.jar’\n",
            "\n",
            "postgresql-42.2.16. 100%[===================>] 979.38K  6.15MB/s    in 0.2s    \n",
            "\n",
            "2021-05-23 20:34:32 (6.15 MB/s) - ‘postgresql-42.2.16.jar’ saved [1002883/1002883]\n",
            "\n"
          ],
          "name": "stdout"
        }
      ]
    },
    {
      "cell_type": "code",
      "metadata": {
        "id": "Kvtj8KxH75ID"
      },
      "source": [
        "from pyspark.sql import SparkSession\n",
        "spark = SparkSession.builder.appName(\"BigData-Challenge-Dev2\").config(\"spark.driver.extraClassPath\",\"/content/postgresql-42.2.16.jar\").getOrCreate()"
      ],
      "execution_count": 3,
      "outputs": []
    },
    {
      "cell_type": "code",
      "metadata": {
        "colab": {
          "base_uri": "https://localhost:8080/"
        },
        "id": "qriU3Zgo8D3x",
        "outputId": "c1ffc2d7-a019-4b45-a4dc-ad2e38864add"
      },
      "source": [
        "from pyspark import SparkFiles\n",
        "url = \"https://s3.amazonaws.com/amazon-reviews-pds/tsv/amazon_reviews_us_Health_Personal_Care_v1_00.tsv.gz\"\n",
        "spark.sparkContext.addFile(url)\n",
        "df = spark.read.option(\"encoding\", \"UTF-8\").csv(SparkFiles.get(\"amazon_reviews_us_Health_Personal_Care_v1_00.tsv.gz\"), sep=\"\\t\", header=True, inferSchema=True)\n",
        "df.show()"
      ],
      "execution_count": 25,
      "outputs": [
        {
          "output_type": "stream",
          "text": [
            "+-----------+-----------+--------------+----------+--------------+--------------------+--------------------+-----------+-------------+-----------+----+-----------------+--------------------+--------------------+-----------+\n",
            "|marketplace|customer_id|     review_id|product_id|product_parent|       product_title|    product_category|star_rating|helpful_votes|total_votes|vine|verified_purchase|     review_headline|         review_body|review_date|\n",
            "+-----------+-----------+--------------+----------+--------------+--------------------+--------------------+-----------+-------------+-----------+----+-----------------+--------------------+--------------------+-----------+\n",
            "|         US|     650634| R3EQSTM9PWRAL|B0091LBZSU|     578484426|Demograss Capsule...|Health & Personal...|          3|            0|          0|   N|                Y|         Three Stars|Only came with 30...| 2015-08-31|\n",
            "|         US|   19827510| RBWPRK17XKIXD|B00PWW3LQ6|     456433146|Viva Labs #1 Prem...|Health & Personal...|          5|            0|          0|   N|                Y|A good portable s...|Really yummy and ...| 2015-08-31|\n",
            "|         US|    1520474| RRSLOAF273XFC|B00DKEWA92|     460764511|     Whip-it Cleaner|Health & Personal...|          5|            1|          2|   N|                Y|       You need this|You cannot go wro...| 2015-08-31|\n",
            "|         US|   23905905|R3S8W9Q6SWIT8O|B0015R3A7M|     135102038|Optimum Nutrition...|Health & Personal...|          4|            0|          0|   N|                Y|this is a good vi...|This is a good da...| 2015-08-31|\n",
            "|         US|   28215779|R3QQ6NSLRVBFJC|B006B8U8BG|     200666829|Wet-Stop3 Bedwett...|Health & Personal...|          4|            0|          0|   N|                Y|progress is defin...|We have been usin...| 2015-08-31|\n",
            "|         US|   23260912|R2XYDBMHUVJCSX|B00PFZFD8Y|     344168617|NatraCure Plantar...|Health & Personal...|          2|            0|          1|   N|                Y|           Two Stars|I wear it a few t...| 2015-08-31|\n",
            "|         US|    7965616|R1L94ESVC657A9|B0034792JG|     291831570|Glade Sense & Spr...|Health & Personal...|          5|            0|          0|   N|                Y|          Five Stars|Love this product...| 2015-08-31|\n",
            "|         US|    3443178|R3DI4B8LDWFQ3K|B000052XIA|     493678550|Vagisil Anti-Itch...|Health & Personal...|          1|            3|          4|   N|                Y|It still is itchi...|It still is itchi...| 2015-08-31|\n",
            "|         US|   20838781|R1G7VV4HCXUQQL|B004GCUK8A|       3902598|Glade Automatic S...|Health & Personal...|          5|            0|          0|   N|                Y|          Five Stars|               Good!| 2015-08-31|\n",
            "|         US|   15267517|R3TTNYN1TAMUSU|B00K7W1QAO|     633971374|Kirkland Signatur...|Health & Personal...|          5|            0|          0|   N|                Y|      Will buy again|These bags are ma...| 2015-08-31|\n",
            "|         US|   30105089|R3AMX2D9HMWV6Z|B0034KYA36|     854858899|Zyrtec Prescripti...|Health & Personal...|          5|            0|          0|   N|                Y|         Good price!|Delivered product...| 2015-08-31|\n",
            "|         US|    1622207|R3PO3K321GY8HI|B00C7UZTT8|     264608272|Pure Garcinia Cam...|Health & Personal...|          1|            0|          0|   N|                Y|       Doesn't work.|So far I've felt ...| 2015-08-31|\n",
            "|         US|   29856075| RVQ0UNYX6IEVK|B005F9XFN0|     638667060|Now  Better Stevi...|Health & Personal...|          1|            0|          1|   N|                Y|           not quite|Not nearly as goo...| 2015-08-31|\n",
            "|         US|   52319463|R25E9NIGO2XQ3D|B00Q8YSPTU|     130354267|Now Foods Stevia ...|Health & Personal...|          5|            0|          0|   N|                Y|Reasonably priced...|Reasonably priced...| 2015-08-31|\n",
            "|         US|   16857013|R3GIEXIIIR2G9Y|B00N34HBVG|     700530604|Compression Thigh...|Health & Personal...|          1|            0|          0|   N|                Y|DO NOT BUY!!!! Ve...|They are sooooooo...| 2015-08-31|\n",
            "|         US|   12269680|R264BH3U417NXF|B002UN2UKS|     731161248|Brownmed SEAL-TIG...|Health & Personal...|          5|            0|          0|   N|                Y|Worked Great!! Ve...|Worked Great!!  V...| 2015-08-31|\n",
            "|         US|   29116955|R2C6S0XJIMP0Z2|B003265KYK|     719831457|Botanic Choice Gl...|Health & Personal...|          5|            0|          0|   N|                Y|          Five Stars|Great price, on t...| 2015-08-31|\n",
            "|         US|   14533949|R2LRJYGC2YYR2F|B00939J5T6|     377517622|Shibari SHIB-WHT ...|Health & Personal...|          2|            0|          0|   N|                Y|Cant handle long ...|Broke down after ...| 2015-08-31|\n",
            "|         US|   11274313|R3SVW9ZP1CZPW7|B00LJOQKRI|     376583016|Eyekepper 5-pack ...|Health & Personal...|          1|            0|          1|   N|                Y|            One Star|I think the presc...| 2015-08-31|\n",
            "|         US|   14861684|R1GLA6RQUF4Q79|B002TG3QPO|     813956658|Isopure Zero Carb...|Health & Personal...|          4|            0|          0|   N|                Y|          Four Stars|            Loved it| 2015-08-31|\n",
            "+-----------+-----------+--------------+----------+--------------+--------------------+--------------------+-----------+-------------+-----------+----+-----------------+--------------------+--------------------+-----------+\n",
            "only showing top 20 rows\n",
            "\n"
          ],
          "name": "stdout"
        }
      ]
    },
    {
      "cell_type": "code",
      "metadata": {
        "id": "XP-Mk21r8Mxq"
      },
      "source": [
        "from pyspark.sql.functions import to_date\n",
        "df = spark.read.option(\"encoding\", \"UTF-8\").csv(SparkFiles.get(\"amazon_reviews_us_Health_Personal_Care_v1_00.tsv.gz\"), sep=\"\\t\", header=True, inferSchema=True)"
      ],
      "execution_count": 26,
      "outputs": []
    },
    {
      "cell_type": "code",
      "metadata": {
        "id": "jSPctaUF8eJP"
      },
      "source": [
        "# Filter for total_votes count equal to or greater than 20\n",
        "total_votes_df = df.filter(\"total_votes>=20\")"
      ],
      "execution_count": 44,
      "outputs": []
    },
    {
      "cell_type": "code",
      "metadata": {
        "colab": {
          "base_uri": "https://localhost:8080/"
        },
        "id": "UqJoEncY-8l9",
        "outputId": "ba58be68-de14-4304-aedc-9b4929f4551c"
      },
      "source": [
        "# Filter for helpful_votes divided by total_votes greater than or equal to 50% (>=0.5)\n",
        "\n",
        "helpful_votes_df = total_votes_df.filter(total_votes_df.helpful_votes/total_votes_df.total_votes>=0.5)\n",
        "helpful_votes_df.show(10)"
      ],
      "execution_count": 45,
      "outputs": [
        {
          "output_type": "stream",
          "text": [
            "+-----------+-----------+--------------+----------+--------------+--------------------+--------------------+-----------+-------------+-----------+----+-----------------+--------------------+--------------------+-----------+\n",
            "|marketplace|customer_id|     review_id|product_id|product_parent|       product_title|    product_category|star_rating|helpful_votes|total_votes|vine|verified_purchase|     review_headline|         review_body|review_date|\n",
            "+-----------+-----------+--------------+----------+--------------+--------------------+--------------------+-----------+-------------+-----------+----+-----------------+--------------------+--------------------+-----------+\n",
            "|         US|    1717317|R2984F9VD9WDJB|B0013OVVK0|     895291357|Jarrow Formulas N...|Health & Personal...|          1|           37|         46|   N|                Y|... month 2000 mg...|took it upon my d...| 2015-08-31|\n",
            "|         US|   37405868|R218TGWCIAZYNY|B0065ZTKWS|     961894951|New Mama Bottom S...|Health & Personal...|          5|          191|        198|   N|                Y|Lives up to the hype|I'm not one to be...| 2015-08-31|\n",
            "|         US|   35507683| RGC2TLSBHLPZA|B00196WN54|     850285101|Hyland's Cell Sal...|Health & Personal...|          5|           49|         50|   N|                Y|If I could give t...|If I could give t...| 2015-08-31|\n",
            "|         US|   49800932|R2YYVOW2RYGRM8|B00BGO0QEO|     305113156|Fitbit Flex Wirel...|Health & Personal...|          5|           27|         28|   N|                Y|     Great Motivater|Loving it so far....| 2015-08-31|\n",
            "|         US|   50079376|R2X4WF89XICSB2|B001FWY1JI|      33329985|Drive Medical Due...|Health & Personal...|          1|           21|         21|   N|                Y|   Dangerous product|Consumer beware, ...| 2015-08-31|\n",
            "|         US|   14217432|R1M1KJ4SQE4INF|B013HB7FA6|     476583372|Nano Ionic Silver...|Health & Personal...|          5|           20|         21|   N|                N|Awesome Value for...|My body is consta...| 2015-08-31|\n",
            "|         US|    2644767| RK8MUEWEUGV6V|B0017OFR5Q|     891915007|Swanson Premium B...|Health & Personal...|          4|          105|        113|   N|                N|               Good |Its good consider...| 2015-08-31|\n",
            "|         US|   37243032|R3JF2SBRHZITRZ|B00U0A06A4|     847155233|InteVision Extra-...|Health & Personal...|          5|           24|         26|   N|                N|Both are great! A...|I bought my husba...| 2015-08-31|\n",
            "|         US|   13080287| RLJN73T8WUYIR|B00YM8JRZU|     140079981|Optimized Liposom...|Health & Personal...|          5|          124|        128|   N|                Y|So impressed I've...|I was skeptical w...| 2015-08-31|\n",
            "|         US|   37023547| RYA9ESIATW4EC|B00FB59Z64|     196842829|Swaddlers Sensiti...|Health & Personal...|          1|           23|         27|   N|                N|New Version of th...|We have been usin...| 2015-08-31|\n",
            "+-----------+-----------+--------------+----------+--------------+--------------------+--------------------+-----------+-------------+-----------+----+-----------------+--------------------+--------------------+-----------+\n",
            "only showing top 10 rows\n",
            "\n"
          ],
          "name": "stdout"
        }
      ]
    },
    {
      "cell_type": "code",
      "metadata": {
        "colab": {
          "base_uri": "https://localhost:8080/"
        },
        "id": "eM0Y5lcIK6p9",
        "outputId": "2a5ffad4-9927-4d16-9227-83770cd422df"
      },
      "source": [
        "paid_df = helpful_votes_df.filter(helpful_votes_df.vine == 'Y')\n",
        "paid_df.count()"
      ],
      "execution_count": 75,
      "outputs": [
        {
          "output_type": "execute_result",
          "data": {
            "text/plain": [
              "497"
            ]
          },
          "metadata": {
            "tags": []
          },
          "execution_count": 75
        }
      ]
    },
    {
      "cell_type": "code",
      "metadata": {
        "colab": {
          "base_uri": "https://localhost:8080/"
        },
        "id": "sDlVSWgbYUzq",
        "outputId": "78be3a51-2f0b-4051-cc1b-8e29a857f007"
      },
      "source": [
        "paid_df.show()"
      ],
      "execution_count": 79,
      "outputs": [
        {
          "output_type": "stream",
          "text": [
            "+-----------+-----------+--------------+----------+--------------+--------------------+--------------------+-----------+-------------+-----------+----+-----------------+--------------------+--------------------+-----------+\n",
            "|marketplace|customer_id|     review_id|product_id|product_parent|       product_title|    product_category|star_rating|helpful_votes|total_votes|vine|verified_purchase|     review_headline|         review_body|review_date|\n",
            "+-----------+-----------+--------------+----------+--------------+--------------------+--------------------+-----------+-------------+-----------+----+-----------------+--------------------+--------------------+-----------+\n",
            "|         US|   34746219| RG70K1HMY4LXX|B010H76PTU|     581545062|Omron 7 Series Wi...|Health & Personal...|          4|           37|         44|   Y|                N|Only tracks 1 per...|This product come...| 2015-08-27|\n",
            "|         US|   51401810|R1DHGTNXDXJ0GB|B00VAPRSP4|     373707856|Cellucor, SuperHD...|Health & Personal...|          5|           78|         93|   Y|                N|Feel the burn, a ...|All summer long, ...| 2015-08-14|\n",
            "|         US|   48359297|R3B5S3OSA8N6AO|B00TP29C0I|     999081216|Finish Powerball ...|Health & Personal...|          5|           38|         43|   Y|                N|Same great dishwa...|I've been using t...| 2015-08-13|\n",
            "|         US|   43202634|R29X0YBS0SBIUP|B00VAPRSP4|     373707856|Cellucor, SuperHD...|Health & Personal...|          5|           56|         74|   Y|                N|A++ for Energy, S...|Let me just start...| 2015-08-11|\n",
            "|         US|   32907802|R1ZEDMCU6NYC8Q|B00FHVYCBK|     600817797|Pure Guardian 14-...|Health & Personal...|          3|           26|         27|   Y|                N|Cant Turn off the...|I like the &#34;p...| 2015-08-05|\n",
            "|         US|   52756261| RVBJM1LUI9X9K|B000NNEPHI|     176860773|Prevail Extra Abs...|Health & Personal...|          5|           27|         28|   Y|                N|Prevail Super Abs...|These are well fi...| 2015-08-03|\n",
            "|         US|   53094487| R1KASHD9QSDMV|B00ZQUDMV8|     707523302|Benefiber Healthy...|Health & Personal...|          4|           18|         21|   Y|                N|Excellent fiber s...|I have long liked...| 2015-07-27|\n",
            "|         US|   51367435|R1M3LATUI38MK0|B00OKD7RSG|     959144205|PureGuardian 12.5...|Health & Personal...|          5|           46|         50|   Y|                N|Very effective at...|Update 9/2016: St...| 2015-07-23|\n",
            "|         US|   50391548|R20JZQ3AQVYNAU|B00U464HYK|      37907984|Cellucor, C4 Orig...|Health & Personal...|          4|          103|        113|   Y|                N|Still one of my t...|I've been using C...| 2015-07-22|\n",
            "|         US|   34404124|R1EHXYTMBO4D28|B00UNT6BR4|     364699425|Clorox Glass Wipe...|Health & Personal...|          1|           56|         61|   Y|                N|Great idea. Terri...|I had been trying...| 2015-07-20|\n",
            "|         US|   52982196|R3FIEE8HAF008L|B00FK3395U|     954662791|PureGuardian 12.5...|Health & Personal...|          1|           23|         26|   Y|                N|Totally unreliabl...|[[VIDEOID:851a92a...| 2015-07-19|\n",
            "|         US|   18642523| RZJ5628PIAE8M|B00YBP7CTW|     233065194|Swiffer Sweep and...|Health & Personal...|          4|           23|         23|   Y|                N|Great For Quick C...|I have a newer ho...| 2015-07-19|\n",
            "|         US|   47030935|R2YTV8JFB132UU|B00P38Q9TU|     219734297|NeilMed Naspira N...|Health & Personal...|          5|           29|         35|   Y|                N|Pleasantly surpri...|Until now we've a...| 2015-07-13|\n",
            "|         US|   38140736| R9B39IY63XE6H|B00ZQUDMV8|     707523302|Benefiber Healthy...|Health & Personal...|          1|           88|         97|   Y|                N|Slick Marketing f...|It’s a shame Bene...| 2015-07-13|\n",
            "|         US|   13926134|R3IYA2K7643J5F|B00G7VNO86|     911144792|GermGuardian AC41...|Health & Personal...|          3|           28|         35|   Y|                N|Is The UV Light W...|My first air puri...| 2015-07-12|\n",
            "|         US|   40483276|R25HQLXMBJABQL|B00OLBR0LG|     812715058|GermGuardian GG11...|Health & Personal...|          5|           93|         97|   Y|                N|Cleans Just as Ef...|I wanted to use t...| 2015-07-07|\n",
            "|         US|   46671309|R1NCMEN9DCHB2U|B00N6FT6TM|     832385702|Swiffer Sweeper C...|Health & Personal...|          3|           92|        100|   Y|                N|Mop Length adjust...|I do have and buy...| 2015-07-01|\n",
            "|         US|   52764960| RFN5GI4LWX31V|B00TB7422U|     752858938|Dreft Stage 2: Ac...|Health & Personal...|          2|           43|         49|   Y|                N|Poor performance ...|We tested this de...| 2015-06-24|\n",
            "|         US|   13171749|R1DLUEYOWRMJ2K|B00VFYYAC4|     183623722|SmartyPants Vitam...|Health & Personal...|          5|          130|        142|   Y|                N|Highly recommend!...|Methylfolate. Met...| 2015-06-15|\n",
            "|         US|   51881294| RXDWRD20KTQO1|B00U5LY5L4|     967329326|RAYOVAC AA FUSION...|Health & Personal...|          4|           24|         24|   Y|                N|My benchmark test...|Fusion advanced a...| 2015-06-12|\n",
            "+-----------+-----------+--------------+----------+--------------+--------------------+--------------------+-----------+-------------+-----------+----+-----------------+--------------------+--------------------+-----------+\n",
            "only showing top 20 rows\n",
            "\n"
          ],
          "name": "stdout"
        }
      ]
    },
    {
      "cell_type": "code",
      "metadata": {
        "colab": {
          "base_uri": "https://localhost:8080/"
        },
        "id": "BsTbX41ZLKCa",
        "outputId": "3a33b5e8-0bab-46cd-8dc7-f46de3458ed1"
      },
      "source": [
        "unpaid_df = helpful_votes_df.filter(helpful_votes_df.vine == 'N')\n",
        "unpaid_df.count()"
      ],
      "execution_count": 76,
      "outputs": [
        {
          "output_type": "execute_result",
          "data": {
            "text/plain": [
              "120863"
            ]
          },
          "metadata": {
            "tags": []
          },
          "execution_count": 76
        }
      ]
    },
    {
      "cell_type": "code",
      "metadata": {
        "colab": {
          "base_uri": "https://localhost:8080/"
        },
        "id": "YLEm87C5YYsD",
        "outputId": "8e8803d7-2b08-4ff8-8cc9-f6e1d0d791c2"
      },
      "source": [
        "unpaid_df.show()"
      ],
      "execution_count": 80,
      "outputs": [
        {
          "output_type": "stream",
          "text": [
            "+-----------+-----------+--------------+----------+--------------+--------------------+--------------------+-----------+-------------+-----------+----+-----------------+--------------------+--------------------+-----------+\n",
            "|marketplace|customer_id|     review_id|product_id|product_parent|       product_title|    product_category|star_rating|helpful_votes|total_votes|vine|verified_purchase|     review_headline|         review_body|review_date|\n",
            "+-----------+-----------+--------------+----------+--------------+--------------------+--------------------+-----------+-------------+-----------+----+-----------------+--------------------+--------------------+-----------+\n",
            "|         US|    1717317|R2984F9VD9WDJB|B0013OVVK0|     895291357|Jarrow Formulas N...|Health & Personal...|          1|           37|         46|   N|                Y|... month 2000 mg...|took it upon my d...| 2015-08-31|\n",
            "|         US|   37405868|R218TGWCIAZYNY|B0065ZTKWS|     961894951|New Mama Bottom S...|Health & Personal...|          5|          191|        198|   N|                Y|Lives up to the hype|I'm not one to be...| 2015-08-31|\n",
            "|         US|   35507683| RGC2TLSBHLPZA|B00196WN54|     850285101|Hyland's Cell Sal...|Health & Personal...|          5|           49|         50|   N|                Y|If I could give t...|If I could give t...| 2015-08-31|\n",
            "|         US|   49800932|R2YYVOW2RYGRM8|B00BGO0QEO|     305113156|Fitbit Flex Wirel...|Health & Personal...|          5|           27|         28|   N|                Y|     Great Motivater|Loving it so far....| 2015-08-31|\n",
            "|         US|   50079376|R2X4WF89XICSB2|B001FWY1JI|      33329985|Drive Medical Due...|Health & Personal...|          1|           21|         21|   N|                Y|   Dangerous product|Consumer beware, ...| 2015-08-31|\n",
            "|         US|   14217432|R1M1KJ4SQE4INF|B013HB7FA6|     476583372|Nano Ionic Silver...|Health & Personal...|          5|           20|         21|   N|                N|Awesome Value for...|My body is consta...| 2015-08-31|\n",
            "|         US|    2644767| RK8MUEWEUGV6V|B0017OFR5Q|     891915007|Swanson Premium B...|Health & Personal...|          4|          105|        113|   N|                N|               Good |Its good consider...| 2015-08-31|\n",
            "|         US|   37243032|R3JF2SBRHZITRZ|B00U0A06A4|     847155233|InteVision Extra-...|Health & Personal...|          5|           24|         26|   N|                N|Both are great! A...|I bought my husba...| 2015-08-31|\n",
            "|         US|   13080287| RLJN73T8WUYIR|B00YM8JRZU|     140079981|Optimized Liposom...|Health & Personal...|          5|          124|        128|   N|                Y|So impressed I've...|I was skeptical w...| 2015-08-31|\n",
            "|         US|   37023547| RYA9ESIATW4EC|B00FB59Z64|     196842829|Swaddlers Sensiti...|Health & Personal...|          1|           23|         27|   N|                N|New Version of th...|We have been usin...| 2015-08-31|\n",
            "|         US|   51703958|R15RF9IWXWX3IH|B00R5WAD26|     374923086|Superior Labs – E...|Health & Personal...|          5|           25|         31|   N|                N|I have been takin...|I have been takin...| 2015-08-31|\n",
            "|         US|   13573206|R1GNMWLUMCOC6V|B00WDKKJU6|     943596926|Anti Teeth Grindi...|Health & Personal...|          5|           21|         23|   N|                N|I've been super s...|I've been super s...| 2015-08-31|\n",
            "|         US|   39488966|R2SLKTWAJ7BR9K|B00F4Z6I66|     748300787|Organic Bitter Ap...|Health & Personal...|          5|           33|         36|   N|                Y|I like the taste ...|I like the taste ...| 2015-08-31|\n",
            "|         US|   52507419|R1NKKJ720BC2VM|B000Z8ZKW0|     747897692|Now Foods, MSM 10...|Health & Personal...|          5|           25|         28|   N|                Y|Great for making ...|First of all, I a...| 2015-08-31|\n",
            "|         US|   11895042|R3ATNR4AESV090|B00185TDW2|     750089279|Nature's Answer A...|Health & Personal...|          4|           38|         40|   N|                Y|       Amazing stuff|I ordered this fo...| 2015-08-31|\n",
            "|         US|   36082980|R36XRSNV1M0ADW|B00TG2TRL6|     791688919|CCL Advanced Glut...|Health & Personal...|          5|           82|         95|   N|                Y|           It works!|I did my due dili...| 2015-08-31|\n",
            "|         US|    2659185|R203G800OB64XF|B005JAT3TU|     895738024|Garden of Life Vi...|Health & Personal...|          3|           57|         72|   N|                N|    pretty Expensive|These did, howeve...| 2015-08-31|\n",
            "|         US|   28780727|R31LBT37BJZE6B|B00QTCQZ7A|     900346517|Reishi Mushroom E...|Health & Personal...|          1|           14|         20|   N|                Y|Does the potentia...|Although I did no...| 2015-08-31|\n",
            "|         US|   14697125|R119CG8XK73M2B|B00JREK09G|     838045959|Bariatric Once-A-...|Health & Personal...|          5|           77|         77|   N|                Y|really great vita...|as a vsg patient ...| 2015-08-31|\n",
            "|         US|   26173115| RCOVDTGR8NH87|B00XQ6FX34|     576153069|BRI Nutrition Yoh...|Health & Personal...|          5|           59|         67|   N|                N|Excellent supplem...|It was recommende...| 2015-08-31|\n",
            "+-----------+-----------+--------------+----------+--------------+--------------------+--------------------+-----------+-------------+-----------+----+-----------------+--------------------+--------------------+-----------+\n",
            "only showing top 20 rows\n",
            "\n"
          ],
          "name": "stdout"
        }
      ]
    },
    {
      "cell_type": "code",
      "metadata": {
        "colab": {
          "base_uri": "https://localhost:8080/"
        },
        "id": "LWycxjVMNVzQ",
        "outputId": "994d80bb-f329-45c9-a8a6-de22ba7c8d2b"
      },
      "source": [
        "total_reviews = helpful_votes_df.count()\n",
        "print(total_reviews)"
      ],
      "execution_count": 51,
      "outputs": [
        {
          "output_type": "stream",
          "text": [
            "121360\n"
          ],
          "name": "stdout"
        }
      ]
    },
    {
      "cell_type": "code",
      "metadata": {
        "colab": {
          "base_uri": "https://localhost:8080/"
        },
        "id": "qayFSk_QNjsT",
        "outputId": "f7b4e900-4d70-4310-c109-addedd8b7ee7"
      },
      "source": [
        "five_star_total = helpful_votes_df.filter(helpful_votes_df.star_rating==\"5\").count()\n",
        "print(five_star_total)"
      ],
      "execution_count": 58,
      "outputs": [
        {
          "output_type": "stream",
          "text": [
            "74690\n"
          ],
          "name": "stdout"
        }
      ]
    },
    {
      "cell_type": "code",
      "metadata": {
        "colab": {
          "base_uri": "https://localhost:8080/"
        },
        "id": "GNf1jlyLN0tD",
        "outputId": "16dc4708-a14c-4e6c-b16a-2a3f28017eea"
      },
      "source": [
        "paid_five = paid_df.filter(paid_df.star_rating==\"5\").count()\n",
        "print(paid_five)\n",
        "percent_paid = (paid_five/paid_df.count())*100\n",
        "print(percent_paid)"
      ],
      "execution_count": 77,
      "outputs": [
        {
          "output_type": "stream",
          "text": [
            "220\n",
            "44.26559356136821\n"
          ],
          "name": "stdout"
        }
      ]
    },
    {
      "cell_type": "code",
      "metadata": {
        "colab": {
          "base_uri": "https://localhost:8080/"
        },
        "id": "LpYmCnKKTO3X",
        "outputId": "93f06100-c607-4a53-bf3c-4cfbe198c555"
      },
      "source": [
        "unpaid_five = unpaid_df.filter(unpaid_df.star_rating==\"5\").count()\n",
        "print(unpaid_five)\n",
        "percent_unpaid = (unpaid_five/unpaid_df.count())*100\n",
        "print(percent_unpaid)"
      ],
      "execution_count": 78,
      "outputs": [
        {
          "output_type": "stream",
          "text": [
            "74470\n",
            "61.615217229425056\n"
          ],
          "name": "stdout"
        }
      ]
    }
  ]
}